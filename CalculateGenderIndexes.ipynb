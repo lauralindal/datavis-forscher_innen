{
 "cells": [
  {
   "cell_type": "code",
   "execution_count": 1,
   "metadata": {},
   "outputs": [],
   "source": [
    "import pandas as pd\n",
    "\n",
    "import warnings\n",
    "warnings.filterwarnings('ignore')"
   ]
  },
  {
   "cell_type": "code",
   "execution_count": 2,
   "metadata": {},
   "outputs": [],
   "source": [
    "# Importiere Daten\n",
    "\n",
    "project_person_relations = pd.read_csv(\"project_person_relations.csv\", encoding = \"utf-8\") # für Anzahl Projekt / Person\n",
    "people_joined_with_institutions = pd.read_csv(\"people_joined_with_institutions.csv\", encoding = \"utf-8\") # für top 10 researchers per Uni\n",
    "project_gender_index = pd.read_csv('data/project_gender_index.csv', encoding = 'utf-8') # für Berechnung des Gender Index je Person / Institution"
   ]
  },
  {
   "cell_type": "code",
   "execution_count": 3,
   "metadata": {},
   "outputs": [],
   "source": [
    "# Berechne person_gender_index basierend auf dem Durchschnitt des project_gender_indexes der Projekte, an der die Person teilnimmt\n",
    "\n",
    "## Füge project_gender_index über project_id zu project_person_data hinzu\n",
    "project_gender_index['project_id'] = project_gender_index.project_id.astype(int)\n",
    "project_gender_index_map = project_gender_index.set_index(['project_id']).to_dict()['gender_index']  \n",
    "project_person_relations['gender_index'] = project_person_relations.set_index('project_id_number').index.map(project_gender_index_map)   \n",
    "\n",
    "## Gruppiere project_person_data nach Person & Projekten und entferne alle Projekte, für die es keinen project_gender_index gibt\n",
    "person_gender_index = pd.DataFrame(project_person_relations.groupby(['person_id', 'project_id_number'])['gender_index'].first())\n",
    "person_gender_index = person_gender_index.dropna() # drop projects that have no gender_index for calculation (basically, we're ignoring the same projects we've ignored before)\n",
    "\n",
    "## Berechne Durchschnitt von project_gender_index pro Person\n",
    "person_gender_index = person_gender_index.mean(level=['person_id'])\n",
    "\n",
    "## Speichere person_gender_index\n",
    "person_gender_index = person_gender_index.reset_index()\n",
    "person_gender_index.to_csv('data/person_gender_index.csv')"
   ]
  },
  {
   "cell_type": "code",
   "execution_count": 4,
   "metadata": {},
   "outputs": [
    {
     "name": "stdout",
     "output_type": "stream",
     "text": [
      "14687\n",
      "44178\n",
      "21238\n",
      "22940\n"
     ]
    }
   ],
   "source": [
    "# Berechne institution_gender_index basierend auf dem Durchschnitt des person_gender_index der Personen, die der Institution angehörig sind\n",
    "\n",
    "## Entferne alle Zeilen in people_joined_with_institutions, bei denen die institution_id fehlt\n",
    "print(people_joined_with_institutions['institution_id'].isna().sum())\n",
    "print(people_joined_with_institutions['institution_id'].notna().sum())\n",
    "reduced_people_joined_with_institutions = people_joined_with_institutions.dropna(subset=['institution_id'])\n",
    "\n",
    "## Füge person_gender_index über person_id zu people_joined with_institutions hinzu\n",
    "institution_gender_index = reduced_people_joined_with_institutions\n",
    "person_gender_index_map = person_gender_index.set_index(['person_id']).to_dict()['gender_index']  \n",
    "institution_gender_index['person_gender_index'] = institution_gender_index.set_index('person_id').index.map(person_gender_index_map)\n",
    "\n",
    "# Gruppiere people_joined_with_institutions nach Institution & Person und entferne alle Personen, für die es keinen person_gender_index gibt\n",
    "print(institution_gender_index['person_gender_index'].isna().sum())\n",
    "print(institution_gender_index['person_gender_index'].notna().sum())\n",
    "institution_gender_index = pd.DataFrame(institution_gender_index.groupby(['institution_id', 'person_id'])['person_gender_index'].first())\n",
    "institution_gender_index = institution_gender_index.dropna(subset=['person_gender_index'])\n",
    "\n",
    "## Berechne Durchschnitt von person_gender_index pro Institution\n",
    "institution_gender_index = institution_gender_index.mean(level=['institution_id'])\n",
    "institution_gender_index = institution_gender_index.rename(columns={'person_gender_index': 'institution_gender_index'})\n",
    "\n",
    "## Speichere person_gender_index\n",
    "institution_gender_index = institution_gender_index.reset_index()\n",
    "institution_gender_index.to_csv('data/institution_gender_index.csv')"
   ]
  },
  {
   "cell_type": "code",
   "execution_count": 24,
   "metadata": {},
   "outputs": [],
   "source": [
    "# Erstelle TOP 10 researchers Liste pro Institution\n",
    "\n",
    "## Gruppiere project_person_data nach Person & Projekten, zähle Anzahl der Projekte \n",
    "project_count_per_person = pd.DataFrame(project_person_relations.groupby(['person_id'])['project_id_number'].count())\n",
    "project_count_per_person = project_count_per_person.rename(columns={'project_id_number': 'project_count'})\n",
    "project_count_per_person = project_count_per_person.reset_index()\n",
    "\n",
    "## Füge project_count über person_id zu reduced_people_joined_with_institutions hinzu\n",
    "institution_people_project_count = reduced_people_joined_with_institutions\n",
    "project_count_map = project_count_per_person.set_index(['person_id']).to_dict()['project_count']  \n",
    "institution_people_project_count['project_count'] = institution_people_project_count.set_index('person_id').index.map(project_count_map)\n",
    "\n",
    "## Berechne Top 10 Researchers nach Anzahl der Projekte\n",
    "top_researchers_by_projects = pd.DataFrame(institution_people_project_count.groupby(['institution_id', 'person_id'])['project_count'].first())\n",
    "top_researchers_by_projects = top_researchers_by_projects.sort_values([('project_count')], ascending=False)\n",
    "top_researchers_by_projects = top_researchers_by_projects.groupby(level=0).apply(lambda df: df.sort_index(by='project_count')[-10:])\n",
    "\n",
    "## Speichere Top 10 researchers\n",
    "top_researchers_by_projects = top_researchers_by_projects.reset_index(level=0, drop=True)\n",
    "top_researchers_by_projects.to_csv('data/top_researchers_by_projects.csv')\n",
    "\n",
    "## Nice to have: Berechne Top 10 Researchers nach Person Gender Index\n",
    "#top_researchers_by_gender_index = pd.DataFrame(institution_people_project_count.groupby(['institution_id', 'person_id'])['person_gender_index'].first())\n",
    "#top_researchers_by_gender_index = top_researchers_by_gender_index.dropna(subset=['person_gender_index'])\n",
    "## In der folgenden Zeile müssten wir dann die 10 Werte pro Institution bekommen, die am nächsten um 0,5 liegen\n",
    "#top_researchers_by_gender_index = top_researchers_by_gender_index.groupby(level=0).apply(lambda df: df.sort_index(by='person_gender_index')[-10:])"
   ]
  }
 ],
 "metadata": {
  "kernelspec": {
   "display_name": "Python 3",
   "language": "python",
   "name": "python3"
  },
  "language_info": {
   "codemirror_mode": {
    "name": "ipython",
    "version": 3
   },
   "file_extension": ".py",
   "mimetype": "text/x-python",
   "name": "python",
   "nbconvert_exporter": "python",
   "pygments_lexer": "ipython3",
   "version": "3.7.4"
  }
 },
 "nbformat": 4,
 "nbformat_minor": 2
}
