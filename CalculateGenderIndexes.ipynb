{
 "cells": [
  {
   "cell_type": "code",
   "execution_count": 2,
   "metadata": {},
   "outputs": [],
   "source": [
    "import pandas as pd\n",
    "\n",
    "import warnings\n",
    "warnings.filterwarnings('ignore')"
   ]
  },
  {
   "cell_type": "code",
   "execution_count": 3,
   "metadata": {},
   "outputs": [],
   "source": [
    "# Importiere Daten\n",
    "\n",
    "project_person_relations = pd.read_csv(\"project_person_relations.csv\", encoding = \"utf-8\") # für Anzahl Projekt / Person\n",
    "people_joined_with_institutions = pd.read_csv(\"people_joined_with_institutions.csv\", encoding = \"utf-8\") # für top 10 researchers per Uni\n",
    "project_gender_index = pd.read_csv('data/project_gender_index.csv', encoding = 'utf-8') # für Berechnung des Gender Index je Person / Institution\n",
    "institution_data = pd.read_csv('data/extracted_institution_data_geocoded.csv', encoding = 'utf-8') # final dataset"
   ]
  },
  {
   "cell_type": "code",
   "execution_count": 4,
   "metadata": {},
   "outputs": [],
   "source": [
    "# Berechne person_gender_index basierend auf dem Durchschnitt des project_gender_indexes der Projekte, an der die Person teilnimmt\n",
    "\n",
    "## Füge project_gender_index über project_id zu project_person_data hinzu\n",
    "project_gender_index['project_id'] = project_gender_index.project_id.astype(int)\n",
    "project_gender_index_map = project_gender_index.set_index(['project_id']).to_dict()['gender_index']  \n",
    "project_person_relations['gender_index'] = project_person_relations.set_index('project_id_number').index.map(project_gender_index_map)   \n",
    "\n",
    "## Gruppiere project_person_data nach Person & Projekten und entferne alle Projekte, für die es keinen project_gender_index gibt\n",
    "person_gender_index = pd.DataFrame(project_person_relations.groupby(['person_id', 'project_id_number'])['gender_index'].first())\n",
    "person_gender_index = person_gender_index.dropna() # drop projects that have no gender_index for calculation (basically, we're ignoring the same projects we've ignored before)\n",
    "\n",
    "## Berechne Durchschnitt von project_gender_index pro Person\n",
    "person_gender_index = person_gender_index.mean(level=['person_id'])\n",
    "\n",
    "## Speichere person_gender_index\n",
    "person_gender_index = person_gender_index.reset_index()\n",
    "person_gender_index.to_csv('data/person_gender_index.csv')"
   ]
  },
  {
   "cell_type": "code",
   "execution_count": 10,
   "metadata": {},
   "outputs": [
    {
     "name": "stdout",
     "output_type": "stream",
     "text": [
      "14687\n",
      "44178\n",
      "21238\n",
      "22940\n"
     ]
    }
   ],
   "source": [
    "# Berechne institution_gender_index basierend auf dem Durchschnitt des person_gender_index der Personen, die der Institution angehörig sind\n",
    "\n",
    "## Entferne alle Zeilen in people_joined_with_institutions, bei denen die institution_id fehlt\n",
    "print(people_joined_with_institutions['institution_id'].isna().sum())\n",
    "print(people_joined_with_institutions['institution_id'].notna().sum())\n",
    "reduced_people_joined_with_institutions = people_joined_with_institutions.dropna(subset=['institution_id'])\n",
    "\n",
    "## Füge person_gender_index über person_id zu people_joined with_institutions hinzu\n",
    "institution_gender_index = reduced_people_joined_with_institutions\n",
    "person_gender_index_map = person_gender_index.set_index(['person_id']).to_dict()['gender_index']  \n",
    "institution_gender_index['person_gender_index'] = institution_gender_index.set_index('person_id').index.map(person_gender_index_map)\n",
    "\n",
    "# Gruppiere people_joined_with_institutions nach Institution & Person und entferne alle Personen, für die es keinen person_gender_index gibt\n",
    "print(institution_gender_index['person_gender_index'].isna().sum())\n",
    "print(institution_gender_index['person_gender_index'].notna().sum())\n",
    "institution_gender_index = pd.DataFrame(institution_gender_index.groupby(['institution_id', 'person_id'])['person_gender_index'].first())\n",
    "institution_gender_index = institution_gender_index.dropna(subset=['person_gender_index'])\n",
    "\n",
    "## Berechne Durchschnitt von person_gender_index pro Institution\n",
    "institution_gender_index = institution_gender_index.mean(level=['institution_id'])\n",
    "institution_gender_index = institution_gender_index.rename(columns={'person_gender_index': 'institution_gender_index'})\n",
    "\n",
    "## Speichere person_gender_index\n",
    "institution_gender_index = institution_gender_index.reset_index()\n",
    "institution_gender_index.to_csv('data/institution_gender_index.csv')"
   ]
  },
  {
   "cell_type": "code",
   "execution_count": 6,
   "metadata": {},
   "outputs": [],
   "source": [
    "# Erstelle TOP 10 researchers Liste pro Institution\n",
    "\n",
    "## Gruppiere project_person_data nach Person & Projekten, zähle Anzahl der Projekte \n",
    "project_count_per_person = pd.DataFrame(project_person_relations.groupby(['person_id'])['project_id_number'].count())\n",
    "project_count_per_person = project_count_per_person.rename(columns={'project_id_number': 'project_count'})\n",
    "project_count_per_person = project_count_per_person.reset_index()\n",
    "\n",
    "## Füge project_count über person_id zu reduced_people_joined_with_institutions hinzu\n",
    "institution_people_project_count = reduced_people_joined_with_institutions\n",
    "project_count_map = project_count_per_person.set_index(['person_id']).to_dict()['project_count']  \n",
    "institution_people_project_count['project_count'] = institution_people_project_count.set_index('person_id').index.map(project_count_map)\n",
    "\n",
    "## Berechne Top 10 Researchers nach Anzahl der Projekte\n",
    "top_researchers_by_projects = pd.DataFrame(institution_people_project_count.groupby(['institution_id', 'person_id'])['project_count'].first())\n",
    "top_researchers_by_projects = top_researchers_by_projects.sort_values([('project_count')], ascending=False)\n",
    "top_researchers_by_projects = top_researchers_by_projects.groupby(level=0).apply(lambda df: df.sort_index(by='project_count')[-10:])\n",
    "\n",
    "## Füge person_gender_index zu top_researchers_by_projects hinzu\n",
    "top_researchers_by_projects = top_researchers_by_projects.reset_index(level=0, drop=True)\n",
    "top_researchers_by_projects = top_researchers_by_projects.reset_index()\n",
    "top_researchers_by_projects['person_gender_index'] = top_researchers_by_projects.set_index('person_id').index.map(person_gender_index_map)\n",
    "\n",
    "## Speichere Top 10 researchers\n",
    "top_researchers_by_projects.to_csv('data/top_researchers_by_projects.csv')\n",
    "\n",
    "# wir könnten hier noch die NaN rauswerfen, allerdings ist es an dieser Stelle durchaus sinnvoll, die auch in der Detailsicht anzuzeigen\n",
    "#top_researchers_by_projects.dropna(subset=['person_gender_index'])\n",
    "\n",
    "## Nice to have: Berechne Top 10 Researchers nach Person Gender Index\n",
    "#top_researchers_by_gender_index = pd.DataFrame(institution_people_project_count.groupby(['institution_id', 'person_id'])['person_gender_index'].first())\n",
    "#top_researchers_by_gender_index = top_researchers_by_gender_index.dropna(subset=['person_gender_index'])\n",
    "## In der folgenden Zeile müssten wir dann die 10 Werte pro Institution bekommen, die am nächsten um 0,5 liegen\n",
    "#top_researchers_by_gender_index = top_researchers_by_gender_index.groupby(level=0).apply(lambda df: df.sort_index(by='person_gender_index')[-10:])"
   ]
  },
  {
   "cell_type": "code",
   "execution_count": 7,
   "metadata": {},
   "outputs": [],
   "source": [
    "# Berechne Anzahl der Projekte pro Institution (für die Größe der Punkte in der Visualisierung)\n",
    "## Beachte: in project_institution_relations.csv gibt es zwar auch Beziehungen zwischen Institutionen und Projekten, aber nicht \n",
    "## jedes Projekt ist direkt an eine Institution gebunden. Unsere Anzahl von Projekten pro Insitution berechnet sich daher\n",
    "## aus der Anzahl der Projekte pro Person - und diese Person ist an eine Institution gebunden. Dadurch doppeln/vermehren sich \n",
    "## allerdings auch Projekte, wenn mehrere Personen an einer Institution im gleichen Projekt sind. Die Zahl sagt also eher aus, \n",
    "## wieviele Personen an einer Institution in wievielen Projekten gefördert wurden.\n",
    "\n",
    "projects_per_institution = pd.DataFrame(institution_people_project_count.groupby(['institution_id'])['project_count'].sum())\n",
    "projects_per_institution = projects_per_institution.reset_index()\n",
    "projects_per_institution = projects_per_institution.rename(columns={'project_count': 'total_projects_count'})\n",
    "\n",
    "projects_per_institution_map = projects_per_institution.set_index(['institution_id']).to_dict()['total_projects_count']\n",
    "institution_data['total_projects_count'] = institution_data.set_index('institution_id').index.map(projects_per_institution_map)\n",
    "\n",
    "institution_data.to_csv('data/extracted_institution_data_geocoded.csv') # final dataset"
   ]
  },
  {
   "cell_type": "code",
   "execution_count": 7,
   "metadata": {},
   "outputs": [
    {
     "data": {
      "image/png": "[encoded data removed]",
      "text/plain": [
       "<Figure size 432x288 with 1 Axes>"
      ]
     },
     "metadata": {},
     "output_type": "display_data"
    }
   ],
   "source": [
    "import seaborn as sns\n",
    "\n",
    "sns.set_style('white')\n",
    "import matplotlib.pyplot as plt\n",
    "n, bins, patches = plt.hist(person_gender_index['gender_index'], 10)\n",
    "\n",
    "for c, p in zip(bins, patches):\n",
    "    if c >= 0 and c < 0.33:\n",
    "        plt.setp(p, 'facecolor', 'DodgerBlue')\n",
    "    elif c >= 0.33 and c < 0.66  :\n",
    "        plt.setp(p, 'facecolor', '#8f52c9')\n",
    "    elif c >= 0.66:\n",
    "        plt.setp(p, 'facecolor', 'DeepPink')\n",
    "\n",
    "plt.savefig(\"img/person_gender_index_hist.png\")"
   ]
  },
  {
   "cell_type": "code",
   "execution_count": 8,
   "metadata": {},
   "outputs": [
    {
     "name": "stdout",
     "output_type": "stream",
     "text": [
      "              person_id\n",
      "gender_index           \n",
      "0.000000          12614\n",
      "0.003623              1\n",
      "0.005208              1\n",
      "0.005376              2\n",
      "0.005882              1\n",
      "...                 ...\n",
      "0.888889              3\n",
      "0.900000              3\n",
      "0.916667              1\n",
      "0.937500              1\n",
      "1.000000            687\n",
      "\n",
      "[2015 rows x 1 columns]\n",
      "person_id    29358\n",
      "dtype: int64\n"
     ]
    }
   ],
   "source": [
    "print(person_gender_index.groupby('gender_index').count())\n",
    "print(person_gender_index.groupby('gender_index').count().sum())"
   ]
  },
  {
   "cell_type": "code",
   "execution_count": 12,
   "metadata": {},
   "outputs": [
    {
     "name": "stdout",
     "output_type": "stream",
     "text": [
      "                          institution_id\n",
      "institution_gender_index                \n",
      "0.000000                             810\n",
      "0.005556                               1\n",
      "0.009524                               1\n",
      "0.010417                               1\n",
      "0.011111                               1\n",
      "...                                  ...\n",
      "0.714286                               3\n",
      "0.749630                               1\n",
      "0.750000                               6\n",
      "0.777778                               2\n",
      "1.000000                              37\n",
      "\n",
      "[547 rows x 1 columns]\n",
      "institution_id    2108\n",
      "dtype: int64\n"
     ]
    }
   ],
   "source": [
    "print(institution_gender_index.groupby('institution_gender_index').count())\n",
    "print(institution_gender_index.groupby('institution_gender_index').count().sum())"
   ]
  },
  {
   "cell_type": "code",
   "execution_count": 13,
   "metadata": {},
   "outputs": [
    {
     "data": {
      "image/png": "[encoded data removed]",
      "text/plain": [
       "<Figure size 432x288 with 1 Axes>"
      ]
     },
     "metadata": {},
     "output_type": "display_data"
    }
   ],
   "source": [
    "n, bins, patches = plt.hist(institution_gender_index['institution_gender_index'], 10)\n",
    "\n",
    "for c, p in zip(bins, patches):\n",
    "    if c >= 0 and c < 0.33:\n",
    "        plt.setp(p, 'facecolor', 'DodgerBlue')\n",
    "    elif c >= 0.33 and c < 0.66  :\n",
    "        plt.setp(p, 'facecolor', '#8f52c9')\n",
    "    elif c >= 0.66:\n",
    "        plt.setp(p, 'facecolor', 'DeepPink')\n",
    "\n",
    "plt.savefig(\"img/institution_gender_index_hist.png\")"
   ]
  },
  {
   "cell_type": "code",
   "execution_count": null,
   "metadata": {},
   "outputs": [],
   "source": []
  }
 ],
 "metadata": {
  "kernelspec": {
   "display_name": "Python 3",
   "language": "python",
   "name": "python3"
  },
  "language_info": {
   "codemirror_mode": {
    "name": "ipython",
    "version": 3
   },
   "file_extension": ".py",
   "mimetype": "text/x-python",
   "name": "python",
   "nbconvert_exporter": "python",
   "pygments_lexer": "ipython3",
   "version": "3.7.4"
  }
 },
 "nbformat": 4,
 "nbformat_minor": 2
}
