{
 "cells": [
  {
   "cell_type": "code",
   "execution_count": 3,
   "metadata": {},
   "outputs": [],
   "source": [
    "import pandas as pd\n",
    "import numpy as np\n",
    "import plotly.graph_objects as go\n",
    "\n",
    "import warnings\n",
    "warnings.filterwarnings('ignore')"
   ]
  },
  {
   "cell_type": "code",
   "execution_count": 4,
   "metadata": {},
   "outputs": [],
   "source": [
    "# import a dataset that will help us guessing a gender for each name\n",
    "# Data by  Lax-Martinez, G., Raffo, J. and Saito, K. 2016. \"Identifying the Gender of PCT inventors\", WIPO Economic Research Working Paper 33.\n",
    "\n",
    "additional_gender = pd.read_csv(\"wgnd_source.csv\", encoding=\"utf-8\")\n",
    "\n",
    "# import data for funded profs and projects\n",
    "\n",
    "person_data = pd.read_csv(\"extracted_person_data.csv\", encoding = \"utf-8\")\n",
    "pp_data = pd.read_csv(\"project_person_relations.csv\", encoding = \"utf-8\")"
   ]
  },
  {
   "cell_type": "code",
   "execution_count": 5,
   "metadata": {},
   "outputs": [],
   "source": [
    "# extract first names\n",
    "\n",
    "person_data['name'] = person_data['name'].str.lower()\n",
    "person_data['first_name'] = person_data['name'].str.split(' ').str[-2]"
   ]
  },
  {
   "cell_type": "code",
   "execution_count": 5,
   "metadata": {},
   "outputs": [],
   "source": [
    "# sort by first name \n",
    "# data.sort_values(\"person_id\", inplace = True)  "
   ]
  },
  {
   "cell_type": "code",
   "execution_count": 6,
   "metadata": {},
   "outputs": [],
   "source": [
    "# drop duplicte values so that there's only one name per person id\n",
    "# data_wo_duplicates = data.drop_duplicates(subset =\"person_id\", keep = 'first')"
   ]
  },
  {
   "cell_type": "code",
   "execution_count": 6,
   "metadata": {},
   "outputs": [],
   "source": [
    "# prepare data: extract title so that we can make a quick validity check later\n",
    "\n",
    "person_data['title'] = person_data['name'].str.split(' ').str[0]\n",
    "\n",
    "# prepare data: reduce gender option to one per name\n",
    "\n",
    "additional_gender['name'] = additional_gender['name'].str.lower()\n",
    "single_gender = additional_gender.drop_duplicates(subset =\"name\", keep = 'first') \n",
    "single_gender = single_gender[['name', 'gender', 'code']]"
   ]
  },
  {
   "cell_type": "code",
   "execution_count": 7,
   "metadata": {},
   "outputs": [],
   "source": [
    "# map gender and names\n",
    "    \n",
    "gender_map = single_gender.set_index('name').to_dict()['gender']  \n",
    "person_data['gender'] = person_data.set_index('first_name').index.map(gender_map)   "
   ]
  },
  {
   "cell_type": "code",
   "execution_count": 9,
   "metadata": {},
   "outputs": [],
   "source": [
    "# improve mapping that fails due to wrong extraction of first name\n",
    "\n",
    "#unknown = ((data['gender'].isnull()) & (data['title']=='professor')) | ((data['gender'].isnull()) & (data['title']=='professorin'))\n",
    "#unknown = data[unknown]\n",
    "\n",
    "#unknown['first_name'] = unknown['name'].str.split(' ').str[2]\n",
    "#unknown['gender'] = unknown.set_index('first_name').index.map(gender_map)   \n",
    "\n",
    "#unknown_improved = ((unknown['gender'].isnull()) & (unknown['title']=='professor')) | ((unknown['gender'].isnull()) & (unknown['title']=='professorin'))\n",
    "#unknown_still = unknown[unknown_improved]\n",
    "\n",
    "#unknown_improvement = unknown[~unknown_improved]"
   ]
  },
  {
   "cell_type": "code",
   "execution_count": 10,
   "metadata": {},
   "outputs": [],
   "source": [
    "#unknown_improvement['gender'] = unknown_improvement.set_index('first_name').index.map(gender_map)  \n",
    "\n",
    "# TODO Only map the values when 'gender' is NaN in data\n",
    "#improvement_map = unknown_improvement.set_index('person_id').to_dict()['gender']\n",
    "#data['gender'] = data.set_index('person_id').index.map(improvement_map)"
   ]
  },
  {
   "cell_type": "code",
   "execution_count": 8,
   "metadata": {},
   "outputs": [
    {
     "name": "stdout",
     "output_type": "stream",
     "text": [
      "(24939, 10)\n",
      "(231, 10)\n",
      "(6237, 10)\n"
     ]
    }
   ],
   "source": [
    "# compare title and assigned gender for profs as validation\n",
    "\n",
    "match = ((person_data['gender']=='M') & (person_data['title']=='professor')) | ((person_data['gender']=='F') & (person_data['title']=='professorin'))\n",
    "match = person_data[match]\n",
    "\n",
    "mismatch = ((person_data['gender']=='F') & (person_data['title']=='professor')) | ((person_data['gender']=='M') & (person_data['title']=='professorin'))\n",
    "mismatch = person_data[mismatch]\n",
    "\n",
    "still_unknown = ((person_data['gender'].isnull()) & (person_data['title']=='professor')) | ((person_data['gender'].isnull()) & (person_data['title']=='professorin'))\n",
    "still_unknown = person_data[still_unknown]\n",
    "\n",
    "print(match.shape)\n",
    "print(mismatch.shape)\n",
    "print(still_unknown.shape)"
   ]
  },
  {
   "cell_type": "code",
   "execution_count": 12,
   "metadata": {},
   "outputs": [],
   "source": [
    "# improve unknown mapping\n",
    "\n",
    "#unknown['first_name'] = unknown['name'].str.split(' ').str[2]\n",
    "#unknown['gender'] = unknown.set_index('first_name').index.map(gender_map)   "
   ]
  },
  {
   "cell_type": "code",
   "execution_count": 13,
   "metadata": {},
   "outputs": [
    {
     "data": {
      "text/plain": [
       "20.594135065431274"
      ]
     },
     "execution_count": 13,
     "metadata": {},
     "output_type": "execute_result"
    }
   ],
   "source": [
    "# calculate error ratio for profs\n",
    "\n",
    "all_cases = len(match.index) + len(mismatch.index) + len(still_unknown.index)\n",
    "error_ratio = (len(mismatch.index) + len(still_unknown.index)) / all_cases * 100\n",
    "error_ratio"
   ]
  },
  {
   "cell_type": "code",
   "execution_count": 14,
   "metadata": {},
   "outputs": [
    {
     "name": "stdout",
     "output_type": "stream",
     "text": [
      "10339\n",
      "M    35632\n",
      "F    10988\n",
      "?      981\n",
      "Name: gender, dtype: int64\n",
      "Fehler, mindestens:\n",
      "19.537452537107352\n"
     ]
    }
   ],
   "source": [
    "# check how valid / successful is within the entire data set\n",
    "\n",
    "print(person_data['gender'].isna().sum())\n",
    "print(person_data['gender'].value_counts())\n",
    "print('Fehler, mindestens:')\n",
    "print((10339+981)/(10339+981+35632+10988)*100)"
   ]
  },
  {
   "cell_type": "code",
   "execution_count": 9,
   "metadata": {},
   "outputs": [],
   "source": [
    "# create smaller dataset that can be exported publicly\n",
    "reduced_data = person_data[['person_id', 'name', 'first_name', 'gender']]\n",
    "#reduced_data.to_csv(\"data/reduced_data_person.csv\", encoding=\"utf-8\")"
   ]
  },
  {
   "cell_type": "code",
   "execution_count": 10,
   "metadata": {},
   "outputs": [
    {
     "data": {
      "text/html": [
       "<div>\n",
       "<style scoped>\n",
       "    .dataframe tbody tr th:only-of-type {\n",
       "        vertical-align: middle;\n",
       "    }\n",
       "\n",
       "    .dataframe tbody tr th {\n",
       "        vertical-align: top;\n",
       "    }\n",
       "\n",
       "    .dataframe thead th {\n",
       "        text-align: right;\n",
       "    }\n",
       "</style>\n",
       "<table border=\"1\" class=\"dataframe\">\n",
       "  <thead>\n",
       "    <tr style=\"text-align: right;\">\n",
       "      <th></th>\n",
       "      <th>project_id_number</th>\n",
       "      <th>person_id</th>\n",
       "      <th>relation_type</th>\n",
       "    </tr>\n",
       "  </thead>\n",
       "  <tbody>\n",
       "    <tr>\n",
       "      <th>0</th>\n",
       "      <td>268853</td>\n",
       "      <td>1292506</td>\n",
       "      <td>SPOKESPERSON</td>\n",
       "    </tr>\n",
       "    <tr>\n",
       "      <th>1</th>\n",
       "      <td>268879</td>\n",
       "      <td>1063271</td>\n",
       "      <td>SPOKESPERSON</td>\n",
       "    </tr>\n",
       "    <tr>\n",
       "      <th>10</th>\n",
       "      <td>268931</td>\n",
       "      <td>253719</td>\n",
       "      <td>PARTICIPATING_SCIENTIST</td>\n",
       "    </tr>\n",
       "    <tr>\n",
       "      <th>9</th>\n",
       "      <td>268931</td>\n",
       "      <td>253717</td>\n",
       "      <td>PARTICIPATING_SCIENTIST</td>\n",
       "    </tr>\n",
       "    <tr>\n",
       "      <th>8</th>\n",
       "      <td>268931</td>\n",
       "      <td>260484</td>\n",
       "      <td>PARTICIPATING_SCIENTIST</td>\n",
       "    </tr>\n",
       "    <tr>\n",
       "      <th>...</th>\n",
       "      <td>...</td>\n",
       "      <td>...</td>\n",
       "      <td>...</td>\n",
       "    </tr>\n",
       "    <tr>\n",
       "      <th>151130</th>\n",
       "      <td>407495230</td>\n",
       "      <td>1828741</td>\n",
       "      <td>HEAD</td>\n",
       "    </tr>\n",
       "    <tr>\n",
       "      <th>151131</th>\n",
       "      <td>407512192</td>\n",
       "      <td>270257406</td>\n",
       "      <td>APPLICANT</td>\n",
       "    </tr>\n",
       "    <tr>\n",
       "      <th>151132</th>\n",
       "      <td>407924429</td>\n",
       "      <td>1089483</td>\n",
       "      <td>APPLICANT</td>\n",
       "    </tr>\n",
       "    <tr>\n",
       "      <th>151133</th>\n",
       "      <td>408039748</td>\n",
       "      <td>1642591</td>\n",
       "      <td>APPLICANT</td>\n",
       "    </tr>\n",
       "    <tr>\n",
       "      <th>151134</th>\n",
       "      <td>408180549</td>\n",
       "      <td>2043896</td>\n",
       "      <td>APPLICANT</td>\n",
       "    </tr>\n",
       "  </tbody>\n",
       "</table>\n",
       "<p>151135 rows × 3 columns</p>\n",
       "</div>"
      ],
      "text/plain": [
       "        project_id_number  person_id            relation_type\n",
       "0                  268853    1292506             SPOKESPERSON\n",
       "1                  268879    1063271             SPOKESPERSON\n",
       "10                 268931     253719  PARTICIPATING_SCIENTIST\n",
       "9                  268931     253717  PARTICIPATING_SCIENTIST\n",
       "8                  268931     260484  PARTICIPATING_SCIENTIST\n",
       "...                   ...        ...                      ...\n",
       "151130          407495230    1828741                     HEAD\n",
       "151131          407512192  270257406                APPLICANT\n",
       "151132          407924429    1089483                APPLICANT\n",
       "151133          408039748    1642591                APPLICANT\n",
       "151134          408180549    2043896                APPLICANT\n",
       "\n",
       "[151135 rows x 3 columns]"
      ]
     },
     "execution_count": 10,
     "metadata": {},
     "output_type": "execute_result"
    }
   ],
   "source": [
    "# begin with calculating the gender index now\n",
    "# start with sorting the projects by id for a nicer overview\n",
    "\n",
    "pp_data.sort_values('project_id_number', inplace=True)\n",
    "pp_data"
   ]
  },
  {
   "cell_type": "code",
   "execution_count": 11,
   "metadata": {},
   "outputs": [
    {
     "data": {
      "text/html": [
       "<div>\n",
       "<style scoped>\n",
       "    .dataframe tbody tr th:only-of-type {\n",
       "        vertical-align: middle;\n",
       "    }\n",
       "\n",
       "    .dataframe tbody tr th {\n",
       "        vertical-align: top;\n",
       "    }\n",
       "\n",
       "    .dataframe thead th {\n",
       "        text-align: right;\n",
       "    }\n",
       "</style>\n",
       "<table border=\"1\" class=\"dataframe\">\n",
       "  <thead>\n",
       "    <tr style=\"text-align: right;\">\n",
       "      <th></th>\n",
       "      <th>project_id_number</th>\n",
       "      <th>person_id</th>\n",
       "      <th>relation_type</th>\n",
       "    </tr>\n",
       "  </thead>\n",
       "  <tbody>\n",
       "    <tr>\n",
       "      <th>30291</th>\n",
       "      <td>5324946</td>\n",
       "      <td>5132</td>\n",
       "      <td>APPLICANT</td>\n",
       "    </tr>\n",
       "  </tbody>\n",
       "</table>\n",
       "</div>"
      ],
      "text/plain": [
       "       project_id_number  person_id relation_type\n",
       "30291            5324946       5132     APPLICANT"
      ]
     },
     "execution_count": 11,
     "metadata": {},
     "output_type": "execute_result"
    }
   ],
   "source": [
    "pp_data[pp_data['project_id_number'] == 5324946]"
   ]
  },
  {
   "cell_type": "code",
   "execution_count": 12,
   "metadata": {},
   "outputs": [],
   "source": [
    "# keep only projects that have more than one person involved because those are the ones where we can measure networks / collaboration\n",
    "\n",
    "keep = pp_data[pp_data.duplicated(subset=['project_id_number'],keep=False)]"
   ]
  },
  {
   "cell_type": "code",
   "execution_count": 13,
   "metadata": {},
   "outputs": [
    {
     "name": "stdout",
     "output_type": "stream",
     "text": [
      "(151135, 3)\n",
      "(53553, 3)\n"
     ]
    }
   ],
   "source": [
    "# check how many projects / lines were dropped in the previous step\n",
    "\n",
    "print(pp_data.shape)\n",
    "print(keep.shape)"
   ]
  },
  {
   "cell_type": "code",
   "execution_count": 14,
   "metadata": {},
   "outputs": [
    {
     "data": {
      "text/html": [
       "<div>\n",
       "<style scoped>\n",
       "    .dataframe tbody tr th:only-of-type {\n",
       "        vertical-align: middle;\n",
       "    }\n",
       "\n",
       "    .dataframe tbody tr th {\n",
       "        vertical-align: top;\n",
       "    }\n",
       "\n",
       "    .dataframe thead th {\n",
       "        text-align: right;\n",
       "    }\n",
       "</style>\n",
       "<table border=\"1\" class=\"dataframe\">\n",
       "  <thead>\n",
       "    <tr style=\"text-align: right;\">\n",
       "      <th></th>\n",
       "      <th>project_id_number</th>\n",
       "      <th>person_id</th>\n",
       "      <th>relation_type</th>\n",
       "    </tr>\n",
       "  </thead>\n",
       "  <tbody>\n",
       "    <tr>\n",
       "      <th>10</th>\n",
       "      <td>268931</td>\n",
       "      <td>253719</td>\n",
       "      <td>PARTICIPATING_SCIENTIST</td>\n",
       "    </tr>\n",
       "    <tr>\n",
       "      <th>9</th>\n",
       "      <td>268931</td>\n",
       "      <td>253717</td>\n",
       "      <td>PARTICIPATING_SCIENTIST</td>\n",
       "    </tr>\n",
       "    <tr>\n",
       "      <th>8</th>\n",
       "      <td>268931</td>\n",
       "      <td>260484</td>\n",
       "      <td>PARTICIPATING_SCIENTIST</td>\n",
       "    </tr>\n",
       "    <tr>\n",
       "      <th>7</th>\n",
       "      <td>268931</td>\n",
       "      <td>260482</td>\n",
       "      <td>PARTICIPATING_SCIENTIST</td>\n",
       "    </tr>\n",
       "    <tr>\n",
       "      <th>11</th>\n",
       "      <td>268931</td>\n",
       "      <td>1661051</td>\n",
       "      <td>SPOKESPERSON</td>\n",
       "    </tr>\n",
       "    <tr>\n",
       "      <th>5</th>\n",
       "      <td>268931</td>\n",
       "      <td>1078832</td>\n",
       "      <td>PARTICIPATING_SCIENTIST</td>\n",
       "    </tr>\n",
       "    <tr>\n",
       "      <th>4</th>\n",
       "      <td>268931</td>\n",
       "      <td>1078633</td>\n",
       "      <td>PARTICIPATING_SCIENTIST</td>\n",
       "    </tr>\n",
       "    <tr>\n",
       "      <th>3</th>\n",
       "      <td>268931</td>\n",
       "      <td>1376585</td>\n",
       "      <td>PARTICIPATING_SCIENTIST</td>\n",
       "    </tr>\n",
       "    <tr>\n",
       "      <th>2</th>\n",
       "      <td>268931</td>\n",
       "      <td>253711</td>\n",
       "      <td>PARTICIPATING_SCIENTIST</td>\n",
       "    </tr>\n",
       "    <tr>\n",
       "      <th>6</th>\n",
       "      <td>268931</td>\n",
       "      <td>1174308</td>\n",
       "      <td>PARTICIPATING_SCIENTIST</td>\n",
       "    </tr>\n",
       "  </tbody>\n",
       "</table>\n",
       "</div>"
      ],
      "text/plain": [
       "    project_id_number  person_id            relation_type\n",
       "10             268931     253719  PARTICIPATING_SCIENTIST\n",
       "9              268931     253717  PARTICIPATING_SCIENTIST\n",
       "8              268931     260484  PARTICIPATING_SCIENTIST\n",
       "7              268931     260482  PARTICIPATING_SCIENTIST\n",
       "11             268931    1661051             SPOKESPERSON\n",
       "5              268931    1078832  PARTICIPATING_SCIENTIST\n",
       "4              268931    1078633  PARTICIPATING_SCIENTIST\n",
       "3              268931    1376585  PARTICIPATING_SCIENTIST\n",
       "2              268931     253711  PARTICIPATING_SCIENTIST\n",
       "6              268931    1174308  PARTICIPATING_SCIENTIST"
      ]
     },
     "execution_count": 14,
     "metadata": {},
     "output_type": "execute_result"
    }
   ],
   "source": [
    "# check if correct projects were dropped\n",
    "\n",
    "keep[keep['project_id_number']== 268931]"
   ]
  },
  {
   "cell_type": "code",
   "execution_count": 15,
   "metadata": {},
   "outputs": [],
   "source": [
    "# join project data with person/gender data\n",
    "\n",
    "project_person_gender = pd.merge(keep, reduced_data, how = 'left', left_on = 'person_id', right_on = 'person_id')"
   ]
  },
  {
   "cell_type": "code",
   "execution_count": 16,
   "metadata": {},
   "outputs": [
    {
     "data": {
      "text/html": [
       "<div>\n",
       "<style scoped>\n",
       "    .dataframe tbody tr th:only-of-type {\n",
       "        vertical-align: middle;\n",
       "    }\n",
       "\n",
       "    .dataframe tbody tr th {\n",
       "        vertical-align: top;\n",
       "    }\n",
       "\n",
       "    .dataframe thead th {\n",
       "        text-align: right;\n",
       "    }\n",
       "</style>\n",
       "<table border=\"1\" class=\"dataframe\">\n",
       "  <thead>\n",
       "    <tr style=\"text-align: right;\">\n",
       "      <th></th>\n",
       "      <th>project_id_number</th>\n",
       "      <th>person_id</th>\n",
       "      <th>relation_type</th>\n",
       "      <th>name</th>\n",
       "      <th>first_name</th>\n",
       "      <th>gender</th>\n",
       "    </tr>\n",
       "  </thead>\n",
       "  <tbody>\n",
       "    <tr>\n",
       "      <th>0</th>\n",
       "      <td>268931</td>\n",
       "      <td>253719</td>\n",
       "      <td>PARTICIPATING_SCIENTIST</td>\n",
       "      <td>professor dr. hans-joachim wenzel</td>\n",
       "      <td>hans-joachim</td>\n",
       "      <td>NaN</td>\n",
       "    </tr>\n",
       "    <tr>\n",
       "      <th>1</th>\n",
       "      <td>268931</td>\n",
       "      <td>253717</td>\n",
       "      <td>PARTICIPATING_SCIENTIST</td>\n",
       "      <td>professor dr. albrecht weber</td>\n",
       "      <td>albrecht</td>\n",
       "      <td>M</td>\n",
       "    </tr>\n",
       "    <tr>\n",
       "      <th>2</th>\n",
       "      <td>268931</td>\n",
       "      <td>260484</td>\n",
       "      <td>PARTICIPATING_SCIENTIST</td>\n",
       "      <td>professor dr. dietrich tränhardt</td>\n",
       "      <td>dietrich</td>\n",
       "      <td>M</td>\n",
       "    </tr>\n",
       "    <tr>\n",
       "      <th>3</th>\n",
       "      <td>268931</td>\n",
       "      <td>260482</td>\n",
       "      <td>PARTICIPATING_SCIENTIST</td>\n",
       "      <td>professor dr. hans-werner niemann</td>\n",
       "      <td>hans-werner</td>\n",
       "      <td>NaN</td>\n",
       "    </tr>\n",
       "    <tr>\n",
       "      <th>4</th>\n",
       "      <td>268931</td>\n",
       "      <td>1661051</td>\n",
       "      <td>SPOKESPERSON</td>\n",
       "      <td>professor dr. michael bommes (†)</td>\n",
       "      <td>bommes</td>\n",
       "      <td>NaN</td>\n",
       "    </tr>\n",
       "    <tr>\n",
       "      <th>5</th>\n",
       "      <td>268931</td>\n",
       "      <td>1078832</td>\n",
       "      <td>PARTICIPATING_SCIENTIST</td>\n",
       "      <td>professor dr. siegfried greif</td>\n",
       "      <td>siegfried</td>\n",
       "      <td>M</td>\n",
       "    </tr>\n",
       "    <tr>\n",
       "      <th>6</th>\n",
       "      <td>268931</td>\n",
       "      <td>1078633</td>\n",
       "      <td>PARTICIPATING_SCIENTIST</td>\n",
       "      <td>professor dr. peter graf</td>\n",
       "      <td>peter</td>\n",
       "      <td>M</td>\n",
       "    </tr>\n",
       "    <tr>\n",
       "      <th>7</th>\n",
       "      <td>268931</td>\n",
       "      <td>1376585</td>\n",
       "      <td>PARTICIPATING_SCIENTIST</td>\n",
       "      <td>professorin dr. eva breitenbach</td>\n",
       "      <td>eva</td>\n",
       "      <td>F</td>\n",
       "    </tr>\n",
       "    <tr>\n",
       "      <th>8</th>\n",
       "      <td>268931</td>\n",
       "      <td>253711</td>\n",
       "      <td>PARTICIPATING_SCIENTIST</td>\n",
       "      <td>professor dr. klaus j. bade</td>\n",
       "      <td>j.</td>\n",
       "      <td>NaN</td>\n",
       "    </tr>\n",
       "    <tr>\n",
       "      <th>9</th>\n",
       "      <td>268931</td>\n",
       "      <td>1174308</td>\n",
       "      <td>PARTICIPATING_SCIENTIST</td>\n",
       "      <td>professor dr. utz maas</td>\n",
       "      <td>utz</td>\n",
       "      <td>M</td>\n",
       "    </tr>\n",
       "  </tbody>\n",
       "</table>\n",
       "</div>"
      ],
      "text/plain": [
       "   project_id_number  person_id            relation_type  \\\n",
       "0             268931     253719  PARTICIPATING_SCIENTIST   \n",
       "1             268931     253717  PARTICIPATING_SCIENTIST   \n",
       "2             268931     260484  PARTICIPATING_SCIENTIST   \n",
       "3             268931     260482  PARTICIPATING_SCIENTIST   \n",
       "4             268931    1661051             SPOKESPERSON   \n",
       "5             268931    1078832  PARTICIPATING_SCIENTIST   \n",
       "6             268931    1078633  PARTICIPATING_SCIENTIST   \n",
       "7             268931    1376585  PARTICIPATING_SCIENTIST   \n",
       "8             268931     253711  PARTICIPATING_SCIENTIST   \n",
       "9             268931    1174308  PARTICIPATING_SCIENTIST   \n",
       "\n",
       "                                name    first_name gender  \n",
       "0  professor dr. hans-joachim wenzel  hans-joachim    NaN  \n",
       "1       professor dr. albrecht weber      albrecht      M  \n",
       "2   professor dr. dietrich tränhardt      dietrich      M  \n",
       "3  professor dr. hans-werner niemann   hans-werner    NaN  \n",
       "4   professor dr. michael bommes (†)        bommes    NaN  \n",
       "5      professor dr. siegfried greif     siegfried      M  \n",
       "6           professor dr. peter graf         peter      M  \n",
       "7    professorin dr. eva breitenbach           eva      F  \n",
       "8        professor dr. klaus j. bade            j.    NaN  \n",
       "9             professor dr. utz maas           utz      M  "
      ]
     },
     "execution_count": 16,
     "metadata": {},
     "output_type": "execute_result"
    }
   ],
   "source": [
    "# check if that went well\n",
    "\n",
    "project_person_gender[project_person_gender['project_id_number'] == 268931]"
   ]
  },
  {
   "cell_type": "code",
   "execution_count": 17,
   "metadata": {},
   "outputs": [],
   "source": [
    "# group so that we know how many men / women are involved in each project\n",
    "\n",
    "grouped_by_project = pd.DataFrame(project_person_gender.groupby(['project_id_number', 'gender'])[['gender']].count())"
   ]
  },
  {
   "cell_type": "code",
   "execution_count": 18,
   "metadata": {},
   "outputs": [
    {
     "name": "stdout",
     "output_type": "stream",
     "text": [
      "<class 'pandas.core.frame.DataFrame'>\n",
      "MultiIndex: 20582 entries, (268931, F) to (405027271, M)\n",
      "Data columns (total 1 columns):\n",
      "gender    20582 non-null int64\n",
      "dtypes: int64(1)\n",
      "memory usage: 345.3+ KB\n"
     ]
    }
   ],
   "source": [
    "# how many projects with more that one person are there now?\n",
    "\n",
    "grouped_by_project.info()"
   ]
  },
  {
   "cell_type": "code",
   "execution_count": 19,
   "metadata": {},
   "outputs": [
    {
     "data": {
      "text/html": [
       "<div>\n",
       "<style scoped>\n",
       "    .dataframe tbody tr th:only-of-type {\n",
       "        vertical-align: middle;\n",
       "    }\n",
       "\n",
       "    .dataframe tbody tr th {\n",
       "        vertical-align: top;\n",
       "    }\n",
       "\n",
       "    .dataframe thead th {\n",
       "        text-align: right;\n",
       "    }\n",
       "</style>\n",
       "<table border=\"1\" class=\"dataframe\">\n",
       "  <thead>\n",
       "    <tr style=\"text-align: right;\">\n",
       "      <th></th>\n",
       "      <th></th>\n",
       "      <th>gender</th>\n",
       "    </tr>\n",
       "    <tr>\n",
       "      <th>project_id_number</th>\n",
       "      <th>gender</th>\n",
       "      <th></th>\n",
       "    </tr>\n",
       "  </thead>\n",
       "  <tbody>\n",
       "    <tr>\n",
       "      <th rowspan=\"2\" valign=\"top\">268931</th>\n",
       "      <th>F</th>\n",
       "      <td>1</td>\n",
       "    </tr>\n",
       "    <tr>\n",
       "      <th>M</th>\n",
       "      <td>5</td>\n",
       "    </tr>\n",
       "    <tr>\n",
       "      <th rowspan=\"2\" valign=\"top\">269007</th>\n",
       "      <th>F</th>\n",
       "      <td>3</td>\n",
       "    </tr>\n",
       "    <tr>\n",
       "      <th>M</th>\n",
       "      <td>18</td>\n",
       "    </tr>\n",
       "    <tr>\n",
       "      <th>269105</th>\n",
       "      <th>F</th>\n",
       "      <td>1</td>\n",
       "    </tr>\n",
       "  </tbody>\n",
       "</table>\n",
       "</div>"
      ],
      "text/plain": [
       "                          gender\n",
       "project_id_number gender        \n",
       "268931            F            1\n",
       "                  M            5\n",
       "269007            F            3\n",
       "                  M           18\n",
       "269105            F            1"
      ]
     },
     "execution_count": 19,
     "metadata": {},
     "output_type": "execute_result"
    }
   ],
   "source": [
    "grouped_by_project.head()"
   ]
  },
  {
   "cell_type": "code",
   "execution_count": 20,
   "metadata": {},
   "outputs": [],
   "source": [
    "project_gender_index = pd.DataFrame(columns=['project_id', 'gender_index'])\n",
    "\n",
    "for idx, data in grouped_by_project.groupby(level=0):\n",
    "                    \n",
    "    try:\n",
    "        gender_index = ((data.loc[idx, 'F'][0])/((data.loc[idx, 'F'][0])+(data.loc[idx, 'M'][0])))\n",
    "    except KeyError:\n",
    "        try:\n",
    "            data.loc[idx, 'F'][0]\n",
    "            gender_index = 1 # because project is only by women\n",
    "        except KeyError:\n",
    "            try:\n",
    "                data.loc[idx, 'M'][0]\n",
    "                gender_index = 0 # because project is only by women\n",
    "            except KeyError:\n",
    "                try:\n",
    "                    data.loc[idx, '?'][0]\n",
    "                    gender_index = 0.5 # because can't be determined\n",
    "                except KeyError:\n",
    "                    gender_index = 'who knows'\n",
    "    \n",
    "    project_gender_index = project_gender_index.append({'project_id': idx, 'gender_index': gender_index}, ignore_index=True)        \n",
    "\n"
   ]
  },
  {
   "cell_type": "code",
   "execution_count": 21,
   "metadata": {},
   "outputs": [
    {
     "data": {
      "text/plain": [
       "(15498, 2)"
      ]
     },
     "execution_count": 21,
     "metadata": {},
     "output_type": "execute_result"
    }
   ],
   "source": [
    "# do i want to figure out why there were 20582 project before and now there are only 15499? Maybe because F/M are counted\n",
    "project_gender_index.shape"
   ]
  },
  {
   "cell_type": "code",
   "execution_count": 22,
   "metadata": {},
   "outputs": [],
   "source": [
    "project_gender_index.to_csv('data/project_gender_index.csv', encoding = 'utf-8')"
   ]
  },
  {
   "cell_type": "code",
   "execution_count": 23,
   "metadata": {},
   "outputs": [],
   "source": [
    "# prepare data for further visualization\n",
    "\n",
    "## overall gender ratio in dataset including errors\n",
    "overall_gender_data = pd.DataFrame(columns = ['labels', 'data'])\n",
    "male = person_data[person_data['gender']=='M'].shape[0]\n",
    "female = person_data[person_data['gender']=='F'].shape[0]\n",
    "unclear = person_data[person_data['gender']=='?'].shape[0]\n",
    "unassigned = person_data[person_data['gender'].isnull()].shape[0]\n",
    "\n",
    "overall_gender_data = overall_gender_data.append({'labels': 'all_male', 'data': male}, ignore_index=True)\n",
    "overall_gender_data = overall_gender_data.append({'labels': 'all_female', 'data': female}, ignore_index=True)\n",
    "overall_gender_data = overall_gender_data.append({'labels': 'all_unclear', 'data': unclear}, ignore_index=True)\n",
    "overall_gender_data = overall_gender_data.append({'labels': 'all_unassigned', 'data': unassigned}, ignore_index=True)\n",
    "overall_gender_data.set_index('labels', inplace = True)\n",
    "#overall_gender_data.to_csv('data/gender_ratio_in_dataset.csv')\n",
    "\n",
    "## prof's gender ratio in dataset including errors\n",
    "prof_gender_data = pd.DataFrame(columns = ['labels', 'data'])\n",
    "prof_male = person_data[(person_data['gender']=='M') & (person_data['title']=='professor')].shape[0]\n",
    "prof_male_mismatch = person_data[(person_data['gender']=='M') & (person_data['title']=='professorin')].shape[0]\n",
    "prof_m_unclear = person_data[(person_data['gender']=='?') & (person_data['title']=='professor')].shape[0]\n",
    "prof_m_unassigned = person_data[person_data['gender'].isnull() & (person_data['title']=='professor')].shape[0]\n",
    "prof_female = person_data[(person_data['gender']=='F') & (person_data['title']=='professorin')].shape[0]\n",
    "prof_female_mismatch = person_data[(person_data['gender']=='F') & (person_data['title']=='professor')].shape[0]\n",
    "prof_f_unclear = person_data[(person_data['gender']=='?') & (person_data['title']=='professorin')].shape[0]\n",
    "prof_f_unassigned = person_data[person_data['gender'].isnull() & (person_data['title']=='professorin')].shape[0]\n",
    "\n",
    "prof_gender_data = prof_gender_data.append({'labels': 'prof_male', 'data': prof_male}, ignore_index=True)\n",
    "prof_gender_data = prof_gender_data.append({'labels': 'prof_male_mismatch', 'data': prof_male_mismatch}, ignore_index=True)\n",
    "prof_gender_data = prof_gender_data.append({'labels': 'prof_m_unclear', 'data': prof_m_unclear}, ignore_index=True)\n",
    "prof_gender_data = prof_gender_data.append({'labels': 'prof_m_unassigned', 'data': prof_m_unassigned}, ignore_index=True)\n",
    "prof_gender_data = prof_gender_data.append({'labels': 'prof_female', 'data': prof_female}, ignore_index=True)\n",
    "prof_gender_data = prof_gender_data.append({'labels': 'prof_female_mismatch', 'data': prof_female_mismatch}, ignore_index=True)\n",
    "prof_gender_data = prof_gender_data.append({'labels': 'prof_f_unclear', 'data': prof_f_unclear}, ignore_index=True)\n",
    "prof_gender_data = prof_gender_data.append({'labels': 'prof_f_unassigned', 'data': prof_f_unassigned}, ignore_index=True)\n",
    "prof_gender_data.set_index('labels', inplace = True)\n",
    "#prof_gender_data.to_csv('data/prof_gender_data.csv')\n",
    "\n",
    "## ratio of single person projects and collaborations\n",
    "single_person_project_or_collab = pd.DataFrame(columns = ['labels', 'data'])\n",
    "all_projects = pp_data.shape[0]\n",
    "collab = keep.shape[0]\n",
    "single = pp_data.shape[0] - keep.shape[0]\n",
    "single_person_project_or_collab = single_person_project_or_collab.append({'labels': 'all_projects', 'data': all_projects}, ignore_index=True)\n",
    "single_person_project_or_collab = single_person_project_or_collab.append({'labels': 'collab', 'data': collab}, ignore_index=True)\n",
    "single_person_project_or_collab = single_person_project_or_collab.append({'labels': 'single', 'data': single}, ignore_index=True)\n",
    "single_person_project_or_collab.set_index('labels', inplace = True)\n",
    "#single_person_project_or_collab.to_csv('data/single_person_project_or_collab.csv')"
   ]
  },
  {
   "cell_type": "code",
   "execution_count": 24,
   "metadata": {},
   "outputs": [
    {
     "data": {
      "text/plain": [
       "<matplotlib.axes._subplots.AxesSubplot at 0x7f6932887150>"
      ]
     },
     "execution_count": 24,
     "metadata": {},
     "output_type": "execute_result"
    },
    {
     "data": {
      "image/png": "[encoded data removed]",
      "text/plain": [
       "<Figure size 432x288 with 1 Axes>"
      ]
     },
     "metadata": {},
     "output_type": "display_data"
    }
   ],
   "source": [
    "# quick visualizations\n",
    "\n",
    "## Overall gender ratio within DFG\n",
    "overall_gender_data.plot.bar()"
   ]
  },
  {
   "cell_type": "code",
   "execution_count": 25,
   "metadata": {},
   "outputs": [
    {
     "data": {
      "text/plain": [
       "<matplotlib.axes._subplots.AxesSubplot at 0x7f6932873a50>"
      ]
     },
     "execution_count": 25,
     "metadata": {},
     "output_type": "execute_result"
    },
    {
     "data": {
      "image/png": "[encoded data removed]",
      "text/plain": [
       "<Figure size 432x288 with 1 Axes>"
      ]
     },
     "metadata": {},
     "output_type": "display_data"
    }
   ],
   "source": [
    "## Validation of gender inference\n",
    "\n",
    "prof_gender_data.plot.bar()"
   ]
  },
  {
   "cell_type": "code",
   "execution_count": 26,
   "metadata": {},
   "outputs": [
    {
     "data": {
      "text/plain": [
       "<matplotlib.axes._subplots.AxesSubplot at 0x7f69328be550>"
      ]
     },
     "execution_count": 26,
     "metadata": {},
     "output_type": "execute_result"
    },
    {
     "data": {
      "image/png": "[encoded data removed]",
      "text/plain": [
       "<Figure size 432x288 with 1 Axes>"
      ]
     },
     "metadata": {},
     "output_type": "display_data"
    }
   ],
   "source": [
    "## Distribution of project_gender_index\n",
    "\n",
    "project_gender_index['gender_index'].plot.hist(bins=10)"
   ]
  },
  {
   "cell_type": "code",
   "execution_count": 83,
   "metadata": {},
   "outputs": [
    {
     "name": "stdout",
     "output_type": "stream",
     "text": [
      "              project_id\n",
      "gender_index            \n",
      "0.000000           10488\n",
      "0.032258               1\n",
      "0.041667               1\n",
      "0.043478               1\n",
      "0.045455               1\n",
      "...                  ...\n",
      "0.777778               2\n",
      "0.800000               2\n",
      "0.833333               1\n",
      "0.857143               1\n",
      "1.000000             667\n",
      "\n",
      "[93 rows x 1 columns]\n",
      "project_id    15498\n",
      "dtype: int64\n"
     ]
    }
   ],
   "source": [
    "print(project_gender_index.groupby('gender_index').count())\n",
    "print(project_gender_index.groupby('gender_index').count().sum())"
   ]
  },
  {
   "cell_type": "code",
   "execution_count": 28,
   "metadata": {},
   "outputs": [
    {
     "data": {
      "text/plain": [
       "<matplotlib.axes._subplots.AxesSubplot at 0x7f69328959d0>"
      ]
     },
     "execution_count": 28,
     "metadata": {},
     "output_type": "execute_result"
    },
    {
     "data": {
      "image/png": "[encoded data removed]",
      "text/plain": [
       "<Figure size 432x288 with 1 Axes>"
      ]
     },
     "metadata": {},
     "output_type": "display_data"
    }
   ],
   "source": [
    "## Alternatively: boxplot of project_gender_index\n",
    "\n",
    "project_gender_index['gender_index'].plot.box()"
   ]
  },
  {
   "cell_type": "code",
   "execution_count": 29,
   "metadata": {},
   "outputs": [
    {
     "data": {
      "text/plain": [
       "<matplotlib.axes._subplots.AxesSubplot at 0x7f6932900990>"
      ]
     },
     "execution_count": 29,
     "metadata": {},
     "output_type": "execute_result"
    },
    {
     "data": {
      "image/png": "[encoded data removed]",
      "text/plain": [
       "<Figure size 432x288 with 1 Axes>"
      ]
     },
     "metadata": {},
     "output_type": "display_data"
    }
   ],
   "source": [
    "## Show how many projects we're dropping\n",
    "\n",
    "single_person_project_or_collab.plot.pie(y='data')"
   ]
  },
  {
   "cell_type": "code",
   "execution_count": 41,
   "metadata": {},
   "outputs": [
    {
     "data": {
      "image/png": "[encoded data removed]",
      "text/plain": [
       "<Figure size 432x288 with 1 Axes>"
      ]
     },
     "metadata": {},
     "output_type": "display_data"
    }
   ],
   "source": [
    "import seaborn as sns\n",
    "\n",
    "sns.set_style('white')\n",
    "histogram = sns.distplot(project_gender_index['gender_index'], kde=False, bins=10)\n",
    "\n"
   ]
  },
  {
   "cell_type": "code",
   "execution_count": 86,
   "metadata": {},
   "outputs": [
    {
     "data": {
      "image/png": "[encoded data removed]",
      "text/plain": [
       "<Figure size 432x288 with 1 Axes>"
      ]
     },
     "metadata": {},
     "output_type": "display_data"
    }
   ],
   "source": [
    "import matplotlib.pyplot as plt\n",
    "n, bins, patches = plt.hist(project_gender_index['gender_index'], 10)\n",
    "\n",
    "for c, p in zip(bins, patches):\n",
    "    if c >= 0 and c < 0.33:\n",
    "        plt.setp(p, 'facecolor', 'DodgerBlue')\n",
    "    elif c >= 0.33 and c < 0.66  :\n",
    "        plt.setp(p, 'facecolor', '#8f52c9')\n",
    "    elif c >= 0.66:\n",
    "        plt.setp(p, 'facecolor', 'DeepPink')\n",
    "\n",
    "plt.savefig(\"img/project_gender_index_hist.png\")"
   ]
  },
  {
   "cell_type": "code",
   "execution_count": null,
   "metadata": {},
   "outputs": [],
   "source": []
  }
 ],
 "metadata": {
  "kernelspec": {
   "display_name": "Python 3",
   "language": "python",
   "name": "python3"
  },
  "language_info": {
   "codemirror_mode": {
    "name": "ipython",
    "version": 3
   },
   "file_extension": ".py",
   "mimetype": "text/x-python",
   "name": "python",
   "nbconvert_exporter": "python",
   "pygments_lexer": "ipython3",
   "version": "3.7.4"
  }
 },
 "nbformat": 4,
 "nbformat_minor": 2
}
