{
 "cells": [
  {
   "cell_type": "code",
   "execution_count": 1,
   "metadata": {},
   "outputs": [],
   "source": [
    "import pandas as pd\n",
    "import numpy as np"
   ]
  },
  {
   "cell_type": "code",
   "execution_count": 8,
   "metadata": {},
   "outputs": [],
   "source": [
    "top_researchers = pd.read_csv('data/top_researchers_by_projects.csv')"
   ]
  },
  {
   "cell_type": "code",
   "execution_count": 9,
   "metadata": {},
   "outputs": [
    {
     "data": {
      "text/html": [
       "<div>\n",
       "<style scoped>\n",
       "    .dataframe tbody tr th:only-of-type {\n",
       "        vertical-align: middle;\n",
       "    }\n",
       "\n",
       "    .dataframe tbody tr th {\n",
       "        vertical-align: top;\n",
       "    }\n",
       "\n",
       "    .dataframe thead th {\n",
       "        text-align: right;\n",
       "    }\n",
       "</style>\n",
       "<table border=\"1\" class=\"dataframe\">\n",
       "  <thead>\n",
       "    <tr style=\"text-align: right;\">\n",
       "      <th></th>\n",
       "      <th>Unnamed: 0</th>\n",
       "      <th>institution_id</th>\n",
       "      <th>person_id</th>\n",
       "      <th>project_count</th>\n",
       "      <th>person_gender_index</th>\n",
       "    </tr>\n",
       "  </thead>\n",
       "  <tbody>\n",
       "    <tr>\n",
       "      <th>0</th>\n",
       "      <td>0</td>\n",
       "      <td>5000.0</td>\n",
       "      <td>1416717</td>\n",
       "      <td>1</td>\n",
       "      <td>NaN</td>\n",
       "    </tr>\n",
       "    <tr>\n",
       "      <th>1</th>\n",
       "      <td>1</td>\n",
       "      <td>5000.0</td>\n",
       "      <td>207511689</td>\n",
       "      <td>1</td>\n",
       "      <td>NaN</td>\n",
       "    </tr>\n",
       "    <tr>\n",
       "      <th>2</th>\n",
       "      <td>2</td>\n",
       "      <td>5000.0</td>\n",
       "      <td>179128865</td>\n",
       "      <td>1</td>\n",
       "      <td>NaN</td>\n",
       "    </tr>\n",
       "    <tr>\n",
       "      <th>3</th>\n",
       "      <td>3</td>\n",
       "      <td>5000.0</td>\n",
       "      <td>1795238</td>\n",
       "      <td>2</td>\n",
       "      <td>NaN</td>\n",
       "    </tr>\n",
       "    <tr>\n",
       "      <th>4</th>\n",
       "      <td>4</td>\n",
       "      <td>5000.0</td>\n",
       "      <td>1684643</td>\n",
       "      <td>2</td>\n",
       "      <td>NaN</td>\n",
       "    </tr>\n",
       "  </tbody>\n",
       "</table>\n",
       "</div>"
      ],
      "text/plain": [
       "   Unnamed: 0  institution_id  person_id  project_count  person_gender_index\n",
       "0           0          5000.0    1416717              1                  NaN\n",
       "1           1          5000.0  207511689              1                  NaN\n",
       "2           2          5000.0  179128865              1                  NaN\n",
       "3           3          5000.0    1795238              2                  NaN\n",
       "4           4          5000.0    1684643              2                  NaN"
      ]
     },
     "execution_count": 9,
     "metadata": {},
     "output_type": "execute_result"
    }
   ],
   "source": [
    "top_researchers.head()"
   ]
  },
  {
   "cell_type": "code",
   "execution_count": 10,
   "metadata": {},
   "outputs": [],
   "source": [
    "researcher_data = pd.read_csv('data/reduced_data_person.csv')"
   ]
  },
  {
   "cell_type": "code",
   "execution_count": 11,
   "metadata": {},
   "outputs": [
    {
     "data": {
      "text/html": [
       "<div>\n",
       "<style scoped>\n",
       "    .dataframe tbody tr th:only-of-type {\n",
       "        vertical-align: middle;\n",
       "    }\n",
       "\n",
       "    .dataframe tbody tr th {\n",
       "        vertical-align: top;\n",
       "    }\n",
       "\n",
       "    .dataframe thead th {\n",
       "        text-align: right;\n",
       "    }\n",
       "</style>\n",
       "<table border=\"1\" class=\"dataframe\">\n",
       "  <thead>\n",
       "    <tr style=\"text-align: right;\">\n",
       "      <th></th>\n",
       "      <th>Unnamed: 0</th>\n",
       "      <th>person_id</th>\n",
       "      <th>name</th>\n",
       "      <th>first_name</th>\n",
       "      <th>gender</th>\n",
       "    </tr>\n",
       "  </thead>\n",
       "  <tbody>\n",
       "    <tr>\n",
       "      <th>0</th>\n",
       "      <td>0</td>\n",
       "      <td>1394470</td>\n",
       "      <td>professor dr. hans-werner fischer-elfert</td>\n",
       "      <td>hans-werner</td>\n",
       "      <td>NaN</td>\n",
       "    </tr>\n",
       "    <tr>\n",
       "      <th>1</th>\n",
       "      <td>1</td>\n",
       "      <td>257249</td>\n",
       "      <td>professor dr. jörg schimmelpfennig</td>\n",
       "      <td>jörg</td>\n",
       "      <td>NaN</td>\n",
       "    </tr>\n",
       "    <tr>\n",
       "      <th>2</th>\n",
       "      <td>2</td>\n",
       "      <td>1052859</td>\n",
       "      <td>professor dr. hellmut fischmeister</td>\n",
       "      <td>hellmut</td>\n",
       "      <td>M</td>\n",
       "    </tr>\n",
       "    <tr>\n",
       "      <th>3</th>\n",
       "      <td>3</td>\n",
       "      <td>1719351</td>\n",
       "      <td>professor dr. stefan wehmeier</td>\n",
       "      <td>stefan</td>\n",
       "      <td>M</td>\n",
       "    </tr>\n",
       "    <tr>\n",
       "      <th>4</th>\n",
       "      <td>4</td>\n",
       "      <td>1098634</td>\n",
       "      <td>professor dr. uwe heinlein</td>\n",
       "      <td>uwe</td>\n",
       "      <td>M</td>\n",
       "    </tr>\n",
       "  </tbody>\n",
       "</table>\n",
       "</div>"
      ],
      "text/plain": [
       "   Unnamed: 0  person_id                                      name  \\\n",
       "0           0    1394470  professor dr. hans-werner fischer-elfert   \n",
       "1           1     257249        professor dr. jörg schimmelpfennig   \n",
       "2           2    1052859        professor dr. hellmut fischmeister   \n",
       "3           3    1719351             professor dr. stefan wehmeier   \n",
       "4           4    1098634                professor dr. uwe heinlein   \n",
       "\n",
       "    first_name gender  \n",
       "0  hans-werner    NaN  \n",
       "1         jörg    NaN  \n",
       "2      hellmut      M  \n",
       "3       stefan      M  \n",
       "4          uwe      M  "
      ]
     },
     "execution_count": 11,
     "metadata": {},
     "output_type": "execute_result"
    }
   ],
   "source": [
    "researcher_data.head()"
   ]
  },
  {
   "cell_type": "code",
   "execution_count": 15,
   "metadata": {},
   "outputs": [],
   "source": [
    "df = pd.merge(top_researchers,researcher_data,how='left',left_on='person_id',right_on='person_id').drop(\"Unnamed: 0_x\",axis=1).drop(\"Unnamed: 0_y\",axis=1)"
   ]
  },
  {
   "cell_type": "code",
   "execution_count": 17,
   "metadata": {},
   "outputs": [],
   "source": [
    "df = df.astype({\"institution_id\": int})"
   ]
  },
  {
   "cell_type": "code",
   "execution_count": 19,
   "metadata": {},
   "outputs": [
    {
     "data": {
      "text/html": [
       "<div>\n",
       "<style scoped>\n",
       "    .dataframe tbody tr th:only-of-type {\n",
       "        vertical-align: middle;\n",
       "    }\n",
       "\n",
       "    .dataframe tbody tr th {\n",
       "        vertical-align: top;\n",
       "    }\n",
       "\n",
       "    .dataframe thead th {\n",
       "        text-align: right;\n",
       "    }\n",
       "</style>\n",
       "<table border=\"1\" class=\"dataframe\">\n",
       "  <thead>\n",
       "    <tr style=\"text-align: right;\">\n",
       "      <th></th>\n",
       "      <th>institution_id</th>\n",
       "      <th>person_id</th>\n",
       "      <th>project_count</th>\n",
       "      <th>person_gender_index</th>\n",
       "      <th>name</th>\n",
       "      <th>first_name</th>\n",
       "      <th>gender</th>\n",
       "    </tr>\n",
       "  </thead>\n",
       "  <tbody>\n",
       "    <tr>\n",
       "      <th>0</th>\n",
       "      <td>5000</td>\n",
       "      <td>1416717</td>\n",
       "      <td>1</td>\n",
       "      <td>NaN</td>\n",
       "      <td>dr. harald leisch</td>\n",
       "      <td>harald</td>\n",
       "      <td>M</td>\n",
       "    </tr>\n",
       "    <tr>\n",
       "      <th>1</th>\n",
       "      <td>5000</td>\n",
       "      <td>207511689</td>\n",
       "      <td>1</td>\n",
       "      <td>NaN</td>\n",
       "      <td>dr. katharina hartmann</td>\n",
       "      <td>katharina</td>\n",
       "      <td>F</td>\n",
       "    </tr>\n",
       "    <tr>\n",
       "      <th>2</th>\n",
       "      <td>5000</td>\n",
       "      <td>179128865</td>\n",
       "      <td>1</td>\n",
       "      <td>NaN</td>\n",
       "      <td>dr. francesca paola anna fabbiani</td>\n",
       "      <td>anna</td>\n",
       "      <td>F</td>\n",
       "    </tr>\n",
       "    <tr>\n",
       "      <th>3</th>\n",
       "      <td>5000</td>\n",
       "      <td>1795238</td>\n",
       "      <td>2</td>\n",
       "      <td>NaN</td>\n",
       "      <td>dr. ellen reister</td>\n",
       "      <td>ellen</td>\n",
       "      <td>F</td>\n",
       "    </tr>\n",
       "    <tr>\n",
       "      <th>4</th>\n",
       "      <td>5000</td>\n",
       "      <td>1684643</td>\n",
       "      <td>2</td>\n",
       "      <td>NaN</td>\n",
       "      <td>dr. gunter merdes</td>\n",
       "      <td>gunter</td>\n",
       "      <td>M</td>\n",
       "    </tr>\n",
       "  </tbody>\n",
       "</table>\n",
       "</div>"
      ],
      "text/plain": [
       "   institution_id  person_id  project_count  person_gender_index  \\\n",
       "0            5000    1416717              1                  NaN   \n",
       "1            5000  207511689              1                  NaN   \n",
       "2            5000  179128865              1                  NaN   \n",
       "3            5000    1795238              2                  NaN   \n",
       "4            5000    1684643              2                  NaN   \n",
       "\n",
       "                                name first_name gender  \n",
       "0                  dr. harald leisch     harald      M  \n",
       "1             dr. katharina hartmann  katharina      F  \n",
       "2  dr. francesca paola anna fabbiani       anna      F  \n",
       "3                  dr. ellen reister      ellen      F  \n",
       "4                  dr. gunter merdes     gunter      M  "
      ]
     },
     "execution_count": 19,
     "metadata": {},
     "output_type": "execute_result"
    }
   ],
   "source": [
    "df.head()"
   ]
  },
  {
   "cell_type": "code",
   "execution_count": 20,
   "metadata": {},
   "outputs": [],
   "source": [
    "df.to_csv('data/top_researchers_by_projects_detailed.csv')"
   ]
  },
  {
   "cell_type": "code",
   "execution_count": null,
   "metadata": {},
   "outputs": [],
   "source": []
  }
 ],
 "metadata": {
  "kernelspec": {
   "display_name": "Python 3",
   "language": "python",
   "name": "python3"
  },
  "language_info": {
   "codemirror_mode": {
    "name": "ipython",
    "version": 3
   },
   "file_extension": ".py",
   "mimetype": "text/x-python",
   "name": "python",
   "nbconvert_exporter": "python",
   "pygments_lexer": "ipython3",
   "version": "3.7.3"
  }
 },
 "nbformat": 4,
 "nbformat_minor": 2
}
